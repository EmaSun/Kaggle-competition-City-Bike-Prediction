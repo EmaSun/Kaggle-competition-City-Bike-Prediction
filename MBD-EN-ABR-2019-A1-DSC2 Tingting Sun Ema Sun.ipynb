{
 "cells": [
  {
   "cell_type": "code",
   "execution_count": 389,
   "metadata": {},
   "outputs": [],
   "source": [
    "import pandas as pd\n",
    "import numpy as np"
   ]
  },
  {
   "cell_type": "code",
   "execution_count": 390,
   "metadata": {},
   "outputs": [],
   "source": [
    "training_org=pd.read_csv(\"D:/CLASS/Term 2/Kaggle competition/city-bikes-demand/train.csv\")"
   ]
  },
  {
   "cell_type": "code",
   "execution_count": 391,
   "metadata": {},
   "outputs": [],
   "source": [
    "test_org=pd.read_csv(\"D:/CLASS/Term 2/Kaggle competition/city-bikes-demand/test.csv\")"
   ]
  },
  {
   "cell_type": "code",
   "execution_count": 392,
   "metadata": {},
   "outputs": [],
   "source": [
    "holiday_org=pd.read_csv(\"D:/CLASS/Term 2/Kaggle competition/city-bikes-demand/holidays.csv\")"
   ]
  },
  {
   "cell_type": "code",
   "execution_count": 393,
   "metadata": {},
   "outputs": [
    {
     "data": {
      "text/plain": [
       "datetime                   0\n",
       "summary                   26\n",
       "icon                      26\n",
       "precipIntensity         3725\n",
       "precipProbability       3725\n",
       "temperature               31\n",
       "apparentTemperature       31\n",
       "dewPoint                  27\n",
       "humidity                  31\n",
       "windSpeed                 44\n",
       "windGust                3139\n",
       "windBearing               55\n",
       "cloudCover              1036\n",
       "uvIndex                  566\n",
       "visibility                55\n",
       "precipType             14104\n",
       "pressure                3766\n",
       "precipAccumulation     22440\n",
       "ozone                  15829\n",
       "countRents                 0\n",
       "dtype: int64"
      ]
     },
     "execution_count": 393,
     "metadata": {},
     "output_type": "execute_result"
    }
   ],
   "source": [
    "training_org.isnull().sum()"
   ]
  },
  {
   "cell_type": "code",
   "execution_count": 394,
   "metadata": {},
   "outputs": [
    {
     "data": {
      "text/plain": [
       "datetime                 0\n",
       "summary                  0\n",
       "icon                     0\n",
       "precipIntensity          0\n",
       "precipProbability        0\n",
       "temperature              0\n",
       "apparentTemperature      0\n",
       "dewPoint                 0\n",
       "humidity                 0\n",
       "windSpeed                0\n",
       "windGust                 0\n",
       "windBearing              0\n",
       "cloudCover               0\n",
       "uvIndex                  0\n",
       "visibility               0\n",
       "precipType             381\n",
       "pressure                 0\n",
       "precipAccumulation     744\n",
       "ozone                    0\n",
       "dtype: int64"
      ]
     },
     "execution_count": 394,
     "metadata": {},
     "output_type": "execute_result"
    }
   ],
   "source": [
    "test_org.isnull().sum()"
   ]
  },
  {
   "cell_type": "code",
   "execution_count": 395,
   "metadata": {},
   "outputs": [
    {
     "data": {
      "text/plain": [
       "date       0\n",
       "holiday    0\n",
       "dtype: int64"
      ]
     },
     "execution_count": 395,
     "metadata": {},
     "output_type": "execute_result"
    }
   ],
   "source": [
    "holiday_org.isnull().sum()"
   ]
  },
  {
   "cell_type": "code",
   "execution_count": 396,
   "metadata": {},
   "outputs": [
    {
     "data": {
      "text/plain": [
       "(22488, 20)"
      ]
     },
     "execution_count": 396,
     "metadata": {},
     "output_type": "execute_result"
    }
   ],
   "source": [
    "training_org.shape"
   ]
  },
  {
   "cell_type": "markdown",
   "metadata": {},
   "source": [
    "# Imputation"
   ]
  },
  {
   "cell_type": "markdown",
   "metadata": {},
   "source": [
    "## deleting rows for some variables"
   ]
  },
  {
   "cell_type": "code",
   "execution_count": 397,
   "metadata": {},
   "outputs": [],
   "source": [
    "training_org=training_org.dropna(subset=['summary', 'icon','temperature','apparentTemperature','dewPoint','humidity','windSpeed','windBearing','visibility'],how='any')"
   ]
  },
  {
   "cell_type": "markdown",
   "metadata": {},
   "source": [
    "### precipIntensity"
   ]
  },
  {
   "cell_type": "code",
   "execution_count": 398,
   "metadata": {},
   "outputs": [
    {
     "data": {
      "text/plain": [
       "array(['Clear', 'Partly Cloudy', 'Overcast', 'Mostly Cloudy', 'Foggy',\n",
       "       'Windy and Mostly Cloudy', 'Windy and Partly Cloudy'], dtype=object)"
      ]
     },
     "execution_count": 398,
     "metadata": {},
     "output_type": "execute_result"
    }
   ],
   "source": [
    "training_org.loc[training_org[\"precipIntensity\"].isnull(),'summary'].unique()"
   ]
  },
  {
   "cell_type": "code",
   "execution_count": 399,
   "metadata": {},
   "outputs": [],
   "source": [
    "training_org[\"precipIntensity\"]=training_org[\"precipIntensity\"].fillna(0)"
   ]
  },
  {
   "cell_type": "markdown",
   "metadata": {},
   "source": [
    "### precipProbability"
   ]
  },
  {
   "cell_type": "code",
   "execution_count": 400,
   "metadata": {},
   "outputs": [
    {
     "data": {
      "text/plain": [
       "array(['Clear', 'Partly Cloudy', 'Overcast', 'Mostly Cloudy', 'Foggy',\n",
       "       'Windy and Mostly Cloudy', 'Windy and Partly Cloudy'], dtype=object)"
      ]
     },
     "execution_count": 400,
     "metadata": {},
     "output_type": "execute_result"
    }
   ],
   "source": [
    "training_org.loc[training_org[\"precipProbability\"].isnull(),'summary'].unique()"
   ]
  },
  {
   "cell_type": "code",
   "execution_count": 401,
   "metadata": {},
   "outputs": [],
   "source": [
    "training_org[\"precipProbability\"]=training_org[\"precipProbability\"].fillna(0)"
   ]
  },
  {
   "cell_type": "markdown",
   "metadata": {},
   "source": [
    "### precipType"
   ]
  },
  {
   "cell_type": "code",
   "execution_count": 402,
   "metadata": {},
   "outputs": [
    {
     "data": {
      "text/plain": [
       "array(['Mostly Cloudy', 'Overcast', 'Partly Cloudy', 'Clear', 'Foggy',\n",
       "       'Windy and Partly Cloudy', 'Windy and Mostly Cloudy', 'Windy'],\n",
       "      dtype=object)"
      ]
     },
     "execution_count": 402,
     "metadata": {},
     "output_type": "execute_result"
    }
   ],
   "source": [
    "training_org.loc[training_org[\"precipType\"].isnull(),'summary'].unique()"
   ]
  },
  {
   "cell_type": "code",
   "execution_count": 403,
   "metadata": {},
   "outputs": [
    {
     "data": {
      "text/plain": [
       "array(['Mostly Cloudy', 'Overcast', 'Partly Cloudy', 'Clear'],\n",
       "      dtype=object)"
      ]
     },
     "execution_count": 403,
     "metadata": {},
     "output_type": "execute_result"
    }
   ],
   "source": [
    "test_org.loc[test_org[\"precipType\"].isnull(),'summary'].unique()"
   ]
  },
  {
   "cell_type": "code",
   "execution_count": 404,
   "metadata": {},
   "outputs": [],
   "source": [
    "training_org[\"precipType\"]=training_org[\"precipType\"].fillna(\"non\")"
   ]
  },
  {
   "cell_type": "code",
   "execution_count": 405,
   "metadata": {},
   "outputs": [],
   "source": [
    "test_org[\"precipType\"]=test_org[\"precipType\"].fillna(\"non\")"
   ]
  },
  {
   "cell_type": "markdown",
   "metadata": {},
   "source": [
    "### windGust"
   ]
  },
  {
   "cell_type": "code",
   "execution_count": 406,
   "metadata": {},
   "outputs": [],
   "source": [
    "from sklearn.linear_model import LinearRegression"
   ]
  },
  {
   "cell_type": "code",
   "execution_count": 407,
   "metadata": {},
   "outputs": [],
   "source": [
    "lr=LinearRegression()"
   ]
  },
  {
   "cell_type": "code",
   "execution_count": 408,
   "metadata": {},
   "outputs": [
    {
     "data": {
      "text/plain": [
       "LinearRegression(copy_X=True, fit_intercept=True, n_jobs=None, normalize=False)"
      ]
     },
     "execution_count": 408,
     "metadata": {},
     "output_type": "execute_result"
    }
   ],
   "source": [
    "lr.fit(X=pd.DataFrame(training_org.loc[~training_org[\"windGust\"].isnull(),\"windSpeed\"]),y=pd.DataFrame(training_org.loc[~training_org[\"windGust\"].isnull(),\"windGust\"]))"
   ]
  },
  {
   "cell_type": "code",
   "execution_count": 409,
   "metadata": {},
   "outputs": [],
   "source": [
    "training_org.loc[training_org[\"windGust\"].isnull(),\"windGust\"]=lr.predict(pd.DataFrame(training_org.loc[training_org[\"windGust\"].isnull(),\"windSpeed\"]))"
   ]
  },
  {
   "cell_type": "markdown",
   "metadata": {},
   "source": [
    "### cloudCover&uvIndex&pressure&ozone"
   ]
  },
  {
   "cell_type": "code",
   "execution_count": 410,
   "metadata": {},
   "outputs": [],
   "source": [
    "training_org[\"cloudCover\"]=training_org.groupby(\"summary\")[\"cloudCover\"].transform(lambda x:x.fillna(x.median()))"
   ]
  },
  {
   "cell_type": "code",
   "execution_count": 411,
   "metadata": {},
   "outputs": [],
   "source": [
    "training_org[\"uvIndex\"]=training_org.groupby(\"summary\")[\"uvIndex\"].transform(lambda x:x.fillna(x.median()))"
   ]
  },
  {
   "cell_type": "code",
   "execution_count": 412,
   "metadata": {},
   "outputs": [],
   "source": [
    "training_org[\"pressure\"]=training_org.groupby(\"summary\")[\"pressure\"].transform(lambda x:x.fillna(x.median()))"
   ]
  },
  {
   "cell_type": "code",
   "execution_count": 413,
   "metadata": {},
   "outputs": [],
   "source": [
    "training_org[\"ozone\"]=training_org.groupby(\"summary\")[\"ozone\"].transform(lambda x:x.fillna(x.median()))"
   ]
  },
  {
   "cell_type": "code",
   "execution_count": 414,
   "metadata": {},
   "outputs": [],
   "source": [
    "training_org=training_org.dropna(subset=['ozone'])"
   ]
  },
  {
   "cell_type": "markdown",
   "metadata": {},
   "source": [
    "### precipAccumulation-quit this variable"
   ]
  },
  {
   "cell_type": "markdown",
   "metadata": {},
   "source": [
    "### precipAccumulation"
   ]
  },
  {
   "cell_type": "code",
   "execution_count": 415,
   "metadata": {},
   "outputs": [
    {
     "data": {
      "text/plain": [
       "0"
      ]
     },
     "execution_count": 415,
     "metadata": {},
     "output_type": "execute_result"
    }
   ],
   "source": [
    "## when precipAccumulation is null,weather is now\n",
    "training_org.loc[training_org[\"icon\"]=='snow','precipAccumulation'].isnull().sum()"
   ]
  },
  {
   "cell_type": "code",
   "execution_count": 416,
   "metadata": {},
   "outputs": [
    {
     "data": {
      "text/plain": [
       "0"
      ]
     },
     "execution_count": 416,
     "metadata": {},
     "output_type": "execute_result"
    }
   ],
   "source": [
    "test_org.loc[test_org[\"icon\"]=='snow','precipAccumulation'].isnull().sum()"
   ]
  },
  {
   "cell_type": "code",
   "execution_count": 417,
   "metadata": {},
   "outputs": [],
   "source": [
    "training_org['precipAccumulation']=training_org['precipAccumulation'].fillna(0)"
   ]
  },
  {
   "cell_type": "code",
   "execution_count": 418,
   "metadata": {},
   "outputs": [],
   "source": [
    "test_org['precipAccumulation']=test_org['precipAccumulation'].fillna(0)"
   ]
  },
  {
   "cell_type": "code",
   "execution_count": 419,
   "metadata": {},
   "outputs": [
    {
     "data": {
      "text/plain": [
       "datetime               0\n",
       "summary                0\n",
       "icon                   0\n",
       "precipIntensity        0\n",
       "precipProbability      0\n",
       "temperature            0\n",
       "apparentTemperature    0\n",
       "dewPoint               0\n",
       "humidity               0\n",
       "windSpeed              0\n",
       "windGust               0\n",
       "windBearing            0\n",
       "cloudCover             0\n",
       "uvIndex                0\n",
       "visibility             0\n",
       "precipType             0\n",
       "pressure               0\n",
       "precipAccumulation     0\n",
       "ozone                  0\n",
       "countRents             0\n",
       "dtype: int64"
      ]
     },
     "execution_count": 419,
     "metadata": {},
     "output_type": "execute_result"
    }
   ],
   "source": [
    "training_org.isnull().sum()"
   ]
  },
  {
   "cell_type": "code",
   "execution_count": 420,
   "metadata": {},
   "outputs": [
    {
     "data": {
      "text/plain": [
       "22416"
      ]
     },
     "execution_count": 420,
     "metadata": {},
     "output_type": "execute_result"
    }
   ],
   "source": [
    "len(training_org)"
   ]
  },
  {
   "cell_type": "code",
   "execution_count": 421,
   "metadata": {},
   "outputs": [
    {
     "data": {
      "text/plain": [
       "datetime               0\n",
       "summary                0\n",
       "icon                   0\n",
       "precipIntensity        0\n",
       "precipProbability      0\n",
       "temperature            0\n",
       "apparentTemperature    0\n",
       "dewPoint               0\n",
       "humidity               0\n",
       "windSpeed              0\n",
       "windGust               0\n",
       "windBearing            0\n",
       "cloudCover             0\n",
       "uvIndex                0\n",
       "visibility             0\n",
       "precipType             0\n",
       "pressure               0\n",
       "precipAccumulation     0\n",
       "ozone                  0\n",
       "dtype: int64"
      ]
     },
     "execution_count": 421,
     "metadata": {},
     "output_type": "execute_result"
    }
   ],
   "source": [
    "test_org.isnull().sum()"
   ]
  },
  {
   "cell_type": "markdown",
   "metadata": {},
   "source": [
    "## transfrom date"
   ]
  },
  {
   "cell_type": "code",
   "execution_count": 422,
   "metadata": {},
   "outputs": [],
   "source": [
    "def convert_datetime(df, col):\n",
    "  df[col] = pd.to_datetime(df[col])\n",
    "  df['day_of_week'] = df[col].dt.weekday_name \n",
    "  df['year'] = df[col].dt.year\n",
    "  df['month'] = df[col].dt.month \n",
    "  df['day'] = df[col].dt.day \n",
    "  df['hour'] = df[col].dt.hour\n",
    "  \n",
    "  return None                         \n",
    "\n",
    "convert_datetime(training_org, 'datetime')\n",
    "convert_datetime(test_org, 'datetime')"
   ]
  },
  {
   "cell_type": "markdown",
   "metadata": {},
   "source": [
    "## merge train and test with holiday"
   ]
  },
  {
   "cell_type": "code",
   "execution_count": 423,
   "metadata": {},
   "outputs": [],
   "source": [
    "import datetime as dt"
   ]
  },
  {
   "cell_type": "code",
   "execution_count": 424,
   "metadata": {},
   "outputs": [],
   "source": [
    "training_org[\"date2\"]=pd.to_datetime(training_org[\"datetime\"]).dt.strftime('%Y-%m-%d')"
   ]
  },
  {
   "cell_type": "code",
   "execution_count": 425,
   "metadata": {},
   "outputs": [],
   "source": [
    "test_org[\"date2\"]=pd.to_datetime(test_org[\"datetime\"]).dt.strftime('%Y-%m-%d')"
   ]
  },
  {
   "cell_type": "code",
   "execution_count": 426,
   "metadata": {},
   "outputs": [],
   "source": [
    "training_org=training_org.merge(\n",
    "  holiday_org,\n",
    "  left_on='date2',\n",
    "  right_on='date',\n",
    "  how=\"left\"\n",
    ")"
   ]
  },
  {
   "cell_type": "code",
   "execution_count": 427,
   "metadata": {},
   "outputs": [],
   "source": [
    "test_org=test_org.merge(\n",
    "  holiday_org,\n",
    "  left_on='date2',\n",
    "  right_on='date',\n",
    "  how=\"left\"\n",
    ")"
   ]
  },
  {
   "cell_type": "code",
   "execution_count": 428,
   "metadata": {},
   "outputs": [],
   "source": [
    "training_org['holiday']=training_org['holiday'].fillna(\"N\")\n",
    "test_org['holiday']=test_org['holiday'].fillna(\"N\")"
   ]
  },
  {
   "cell_type": "code",
   "execution_count": 429,
   "metadata": {},
   "outputs": [
    {
     "data": {
      "text/html": [
       "<div>\n",
       "<style scoped>\n",
       "    .dataframe tbody tr th:only-of-type {\n",
       "        vertical-align: middle;\n",
       "    }\n",
       "\n",
       "    .dataframe tbody tr th {\n",
       "        vertical-align: top;\n",
       "    }\n",
       "\n",
       "    .dataframe thead th {\n",
       "        text-align: right;\n",
       "    }\n",
       "</style>\n",
       "<table border=\"1\" class=\"dataframe\">\n",
       "  <thead>\n",
       "    <tr style=\"text-align: right;\">\n",
       "      <th></th>\n",
       "      <th>datetime</th>\n",
       "      <th>summary</th>\n",
       "      <th>icon</th>\n",
       "      <th>precipIntensity</th>\n",
       "      <th>precipProbability</th>\n",
       "      <th>temperature</th>\n",
       "      <th>apparentTemperature</th>\n",
       "      <th>dewPoint</th>\n",
       "      <th>humidity</th>\n",
       "      <th>windSpeed</th>\n",
       "      <th>...</th>\n",
       "      <th>ozone</th>\n",
       "      <th>countRents</th>\n",
       "      <th>day_of_week</th>\n",
       "      <th>year</th>\n",
       "      <th>month</th>\n",
       "      <th>day</th>\n",
       "      <th>hour</th>\n",
       "      <th>date2</th>\n",
       "      <th>date</th>\n",
       "      <th>holiday</th>\n",
       "    </tr>\n",
       "  </thead>\n",
       "  <tbody>\n",
       "    <tr>\n",
       "      <th>0</th>\n",
       "      <td>2017-01-01 00:00:00</td>\n",
       "      <td>Mostly Cloudy</td>\n",
       "      <td>partly-cloudy-night</td>\n",
       "      <td>0.0000</td>\n",
       "      <td>0.0</td>\n",
       "      <td>6.80</td>\n",
       "      <td>6.11</td>\n",
       "      <td>5.66</td>\n",
       "      <td>0.92</td>\n",
       "      <td>1.41</td>\n",
       "      <td>...</td>\n",
       "      <td>336.2</td>\n",
       "      <td>932</td>\n",
       "      <td>Sunday</td>\n",
       "      <td>2017</td>\n",
       "      <td>1</td>\n",
       "      <td>1</td>\n",
       "      <td>0</td>\n",
       "      <td>2017-01-01</td>\n",
       "      <td>NaN</td>\n",
       "      <td>N</td>\n",
       "    </tr>\n",
       "    <tr>\n",
       "      <th>1</th>\n",
       "      <td>2017-01-01 01:00:00</td>\n",
       "      <td>Mostly Cloudy</td>\n",
       "      <td>partly-cloudy-night</td>\n",
       "      <td>0.0000</td>\n",
       "      <td>0.0</td>\n",
       "      <td>6.36</td>\n",
       "      <td>5.28</td>\n",
       "      <td>5.27</td>\n",
       "      <td>0.93</td>\n",
       "      <td>1.69</td>\n",
       "      <td>...</td>\n",
       "      <td>336.2</td>\n",
       "      <td>892</td>\n",
       "      <td>Sunday</td>\n",
       "      <td>2017</td>\n",
       "      <td>1</td>\n",
       "      <td>1</td>\n",
       "      <td>1</td>\n",
       "      <td>2017-01-01</td>\n",
       "      <td>NaN</td>\n",
       "      <td>N</td>\n",
       "    </tr>\n",
       "    <tr>\n",
       "      <th>2</th>\n",
       "      <td>2017-01-01 02:00:00</td>\n",
       "      <td>Mostly Cloudy</td>\n",
       "      <td>partly-cloudy-night</td>\n",
       "      <td>0.0000</td>\n",
       "      <td>0.0</td>\n",
       "      <td>6.04</td>\n",
       "      <td>5.12</td>\n",
       "      <td>4.80</td>\n",
       "      <td>0.92</td>\n",
       "      <td>1.51</td>\n",
       "      <td>...</td>\n",
       "      <td>336.2</td>\n",
       "      <td>339</td>\n",
       "      <td>Sunday</td>\n",
       "      <td>2017</td>\n",
       "      <td>1</td>\n",
       "      <td>1</td>\n",
       "      <td>2</td>\n",
       "      <td>2017-01-01</td>\n",
       "      <td>NaN</td>\n",
       "      <td>N</td>\n",
       "    </tr>\n",
       "    <tr>\n",
       "      <th>3</th>\n",
       "      <td>2017-01-01 03:00:00</td>\n",
       "      <td>Mostly Cloudy</td>\n",
       "      <td>partly-cloudy-night</td>\n",
       "      <td>0.0000</td>\n",
       "      <td>0.0</td>\n",
       "      <td>5.79</td>\n",
       "      <td>5.79</td>\n",
       "      <td>4.61</td>\n",
       "      <td>0.92</td>\n",
       "      <td>1.33</td>\n",
       "      <td>...</td>\n",
       "      <td>336.2</td>\n",
       "      <td>282</td>\n",
       "      <td>Sunday</td>\n",
       "      <td>2017</td>\n",
       "      <td>1</td>\n",
       "      <td>1</td>\n",
       "      <td>3</td>\n",
       "      <td>2017-01-01</td>\n",
       "      <td>NaN</td>\n",
       "      <td>N</td>\n",
       "    </tr>\n",
       "    <tr>\n",
       "      <th>4</th>\n",
       "      <td>2017-01-01 04:00:00</td>\n",
       "      <td>Mostly Cloudy</td>\n",
       "      <td>partly-cloudy-night</td>\n",
       "      <td>0.0116</td>\n",
       "      <td>0.1</td>\n",
       "      <td>5.57</td>\n",
       "      <td>4.74</td>\n",
       "      <td>4.41</td>\n",
       "      <td>0.92</td>\n",
       "      <td>1.39</td>\n",
       "      <td>...</td>\n",
       "      <td>336.2</td>\n",
       "      <td>185</td>\n",
       "      <td>Sunday</td>\n",
       "      <td>2017</td>\n",
       "      <td>1</td>\n",
       "      <td>1</td>\n",
       "      <td>4</td>\n",
       "      <td>2017-01-01</td>\n",
       "      <td>NaN</td>\n",
       "      <td>N</td>\n",
       "    </tr>\n",
       "  </tbody>\n",
       "</table>\n",
       "<p>5 rows × 28 columns</p>\n",
       "</div>"
      ],
      "text/plain": [
       "             datetime        summary                 icon  precipIntensity  \\\n",
       "0 2017-01-01 00:00:00  Mostly Cloudy  partly-cloudy-night           0.0000   \n",
       "1 2017-01-01 01:00:00  Mostly Cloudy  partly-cloudy-night           0.0000   \n",
       "2 2017-01-01 02:00:00  Mostly Cloudy  partly-cloudy-night           0.0000   \n",
       "3 2017-01-01 03:00:00  Mostly Cloudy  partly-cloudy-night           0.0000   \n",
       "4 2017-01-01 04:00:00  Mostly Cloudy  partly-cloudy-night           0.0116   \n",
       "\n",
       "   precipProbability  temperature  apparentTemperature  dewPoint  humidity  \\\n",
       "0                0.0         6.80                 6.11      5.66      0.92   \n",
       "1                0.0         6.36                 5.28      5.27      0.93   \n",
       "2                0.0         6.04                 5.12      4.80      0.92   \n",
       "3                0.0         5.79                 5.79      4.61      0.92   \n",
       "4                0.1         5.57                 4.74      4.41      0.92   \n",
       "\n",
       "   windSpeed  ...  ozone  countRents  day_of_week  year  month day  hour  \\\n",
       "0       1.41  ...  336.2         932       Sunday  2017      1   1     0   \n",
       "1       1.69  ...  336.2         892       Sunday  2017      1   1     1   \n",
       "2       1.51  ...  336.2         339       Sunday  2017      1   1     2   \n",
       "3       1.33  ...  336.2         282       Sunday  2017      1   1     3   \n",
       "4       1.39  ...  336.2         185       Sunday  2017      1   1     4   \n",
       "\n",
       "        date2  date  holiday  \n",
       "0  2017-01-01   NaN        N  \n",
       "1  2017-01-01   NaN        N  \n",
       "2  2017-01-01   NaN        N  \n",
       "3  2017-01-01   NaN        N  \n",
       "4  2017-01-01   NaN        N  \n",
       "\n",
       "[5 rows x 28 columns]"
      ]
     },
     "execution_count": 429,
     "metadata": {},
     "output_type": "execute_result"
    }
   ],
   "source": [
    "training_org.head()"
   ]
  },
  {
   "cell_type": "code",
   "execution_count": 430,
   "metadata": {},
   "outputs": [
    {
     "data": {
      "text/html": [
       "<div>\n",
       "<style scoped>\n",
       "    .dataframe tbody tr th:only-of-type {\n",
       "        vertical-align: middle;\n",
       "    }\n",
       "\n",
       "    .dataframe tbody tr th {\n",
       "        vertical-align: top;\n",
       "    }\n",
       "\n",
       "    .dataframe thead th {\n",
       "        text-align: right;\n",
       "    }\n",
       "</style>\n",
       "<table border=\"1\" class=\"dataframe\">\n",
       "  <thead>\n",
       "    <tr style=\"text-align: right;\">\n",
       "      <th></th>\n",
       "      <th>datetime</th>\n",
       "      <th>summary</th>\n",
       "      <th>icon</th>\n",
       "      <th>precipIntensity</th>\n",
       "      <th>precipProbability</th>\n",
       "      <th>temperature</th>\n",
       "      <th>apparentTemperature</th>\n",
       "      <th>dewPoint</th>\n",
       "      <th>humidity</th>\n",
       "      <th>windSpeed</th>\n",
       "      <th>...</th>\n",
       "      <th>precipAccumulation</th>\n",
       "      <th>ozone</th>\n",
       "      <th>day_of_week</th>\n",
       "      <th>year</th>\n",
       "      <th>month</th>\n",
       "      <th>day</th>\n",
       "      <th>hour</th>\n",
       "      <th>date2</th>\n",
       "      <th>date</th>\n",
       "      <th>holiday</th>\n",
       "    </tr>\n",
       "  </thead>\n",
       "  <tbody>\n",
       "    <tr>\n",
       "      <th>0</th>\n",
       "      <td>2019-07-27 00:00:00</td>\n",
       "      <td>Mostly Cloudy</td>\n",
       "      <td>partly-cloudy-night</td>\n",
       "      <td>0.1727</td>\n",
       "      <td>0.31</td>\n",
       "      <td>20.19</td>\n",
       "      <td>20.47</td>\n",
       "      <td>17.45</td>\n",
       "      <td>0.84</td>\n",
       "      <td>4.03</td>\n",
       "      <td>...</td>\n",
       "      <td>0.0</td>\n",
       "      <td>303.8</td>\n",
       "      <td>Saturday</td>\n",
       "      <td>2019</td>\n",
       "      <td>7</td>\n",
       "      <td>27</td>\n",
       "      <td>0</td>\n",
       "      <td>2019-07-27</td>\n",
       "      <td>NaN</td>\n",
       "      <td>N</td>\n",
       "    </tr>\n",
       "    <tr>\n",
       "      <th>1</th>\n",
       "      <td>2019-07-27 01:00:00</td>\n",
       "      <td>Possible Drizzle</td>\n",
       "      <td>rain</td>\n",
       "      <td>0.2754</td>\n",
       "      <td>0.49</td>\n",
       "      <td>19.47</td>\n",
       "      <td>19.64</td>\n",
       "      <td>16.52</td>\n",
       "      <td>0.83</td>\n",
       "      <td>4.16</td>\n",
       "      <td>...</td>\n",
       "      <td>0.0</td>\n",
       "      <td>305.1</td>\n",
       "      <td>Saturday</td>\n",
       "      <td>2019</td>\n",
       "      <td>7</td>\n",
       "      <td>27</td>\n",
       "      <td>1</td>\n",
       "      <td>2019-07-27</td>\n",
       "      <td>NaN</td>\n",
       "      <td>N</td>\n",
       "    </tr>\n",
       "    <tr>\n",
       "      <th>2</th>\n",
       "      <td>2019-07-27 02:00:00</td>\n",
       "      <td>Possible Light Rain</td>\n",
       "      <td>rain</td>\n",
       "      <td>0.5042</td>\n",
       "      <td>0.62</td>\n",
       "      <td>18.40</td>\n",
       "      <td>18.57</td>\n",
       "      <td>16.17</td>\n",
       "      <td>0.87</td>\n",
       "      <td>3.81</td>\n",
       "      <td>...</td>\n",
       "      <td>0.0</td>\n",
       "      <td>306.6</td>\n",
       "      <td>Saturday</td>\n",
       "      <td>2019</td>\n",
       "      <td>7</td>\n",
       "      <td>27</td>\n",
       "      <td>2</td>\n",
       "      <td>2019-07-27</td>\n",
       "      <td>NaN</td>\n",
       "      <td>N</td>\n",
       "    </tr>\n",
       "    <tr>\n",
       "      <th>3</th>\n",
       "      <td>2019-07-27 03:00:00</td>\n",
       "      <td>Possible Light Rain</td>\n",
       "      <td>rain</td>\n",
       "      <td>0.7826</td>\n",
       "      <td>0.66</td>\n",
       "      <td>18.12</td>\n",
       "      <td>18.23</td>\n",
       "      <td>15.73</td>\n",
       "      <td>0.86</td>\n",
       "      <td>3.03</td>\n",
       "      <td>...</td>\n",
       "      <td>0.0</td>\n",
       "      <td>308.2</td>\n",
       "      <td>Saturday</td>\n",
       "      <td>2019</td>\n",
       "      <td>7</td>\n",
       "      <td>27</td>\n",
       "      <td>3</td>\n",
       "      <td>2019-07-27</td>\n",
       "      <td>NaN</td>\n",
       "      <td>N</td>\n",
       "    </tr>\n",
       "    <tr>\n",
       "      <th>4</th>\n",
       "      <td>2019-07-27 04:00:00</td>\n",
       "      <td>Possible Light Rain</td>\n",
       "      <td>rain</td>\n",
       "      <td>0.9662</td>\n",
       "      <td>0.69</td>\n",
       "      <td>17.69</td>\n",
       "      <td>17.87</td>\n",
       "      <td>16.04</td>\n",
       "      <td>0.90</td>\n",
       "      <td>2.93</td>\n",
       "      <td>...</td>\n",
       "      <td>0.0</td>\n",
       "      <td>310.2</td>\n",
       "      <td>Saturday</td>\n",
       "      <td>2019</td>\n",
       "      <td>7</td>\n",
       "      <td>27</td>\n",
       "      <td>4</td>\n",
       "      <td>2019-07-27</td>\n",
       "      <td>NaN</td>\n",
       "      <td>N</td>\n",
       "    </tr>\n",
       "  </tbody>\n",
       "</table>\n",
       "<p>5 rows × 27 columns</p>\n",
       "</div>"
      ],
      "text/plain": [
       "             datetime              summary                 icon  \\\n",
       "0 2019-07-27 00:00:00        Mostly Cloudy  partly-cloudy-night   \n",
       "1 2019-07-27 01:00:00     Possible Drizzle                 rain   \n",
       "2 2019-07-27 02:00:00  Possible Light Rain                 rain   \n",
       "3 2019-07-27 03:00:00  Possible Light Rain                 rain   \n",
       "4 2019-07-27 04:00:00  Possible Light Rain                 rain   \n",
       "\n",
       "   precipIntensity  precipProbability  temperature  apparentTemperature  \\\n",
       "0           0.1727               0.31        20.19                20.47   \n",
       "1           0.2754               0.49        19.47                19.64   \n",
       "2           0.5042               0.62        18.40                18.57   \n",
       "3           0.7826               0.66        18.12                18.23   \n",
       "4           0.9662               0.69        17.69                17.87   \n",
       "\n",
       "   dewPoint  humidity  windSpeed  ...  precipAccumulation  ozone  day_of_week  \\\n",
       "0     17.45      0.84       4.03  ...                 0.0  303.8     Saturday   \n",
       "1     16.52      0.83       4.16  ...                 0.0  305.1     Saturday   \n",
       "2     16.17      0.87       3.81  ...                 0.0  306.6     Saturday   \n",
       "3     15.73      0.86       3.03  ...                 0.0  308.2     Saturday   \n",
       "4     16.04      0.90       2.93  ...                 0.0  310.2     Saturday   \n",
       "\n",
       "   year  month day  hour       date2  date holiday  \n",
       "0  2019      7  27     0  2019-07-27   NaN       N  \n",
       "1  2019      7  27     1  2019-07-27   NaN       N  \n",
       "2  2019      7  27     2  2019-07-27   NaN       N  \n",
       "3  2019      7  27     3  2019-07-27   NaN       N  \n",
       "4  2019      7  27     4  2019-07-27   NaN       N  \n",
       "\n",
       "[5 rows x 27 columns]"
      ]
     },
     "execution_count": 430,
     "metadata": {},
     "output_type": "execute_result"
    }
   ],
   "source": [
    "test_org.head()"
   ]
  },
  {
   "cell_type": "markdown",
   "metadata": {},
   "source": [
    "# First simple model"
   ]
  },
  {
   "cell_type": "code",
   "execution_count": 431,
   "metadata": {},
   "outputs": [
    {
     "name": "stderr",
     "output_type": "stream",
     "text": [
      "C:\\ProgramData\\Anaconda3\\lib\\site-packages\\ipykernel_launcher.py:1: FutureWarning: Sorting because non-concatenation axis is not aligned. A future version\n",
      "of pandas will change to not sort by default.\n",
      "\n",
      "To accept the future behavior, pass 'sort=False'.\n",
      "\n",
      "To retain the current behavior and silence the warning, pass 'sort=True'.\n",
      "\n",
      "  \"\"\"Entry point for launching an IPython kernel.\n"
     ]
    }
   ],
   "source": [
    "data_1=pd.concat([training_org,test_org],ignore_index=True)"
   ]
  },
  {
   "cell_type": "code",
   "execution_count": 432,
   "metadata": {},
   "outputs": [],
   "source": [
    "df_dummy_1= pd.get_dummies(data_1.drop(['date','datetime','date2'],axis=1).select_dtypes(include='object'))"
   ]
  },
  {
   "cell_type": "code",
   "execution_count": 433,
   "metadata": {},
   "outputs": [
    {
     "data": {
      "text/html": [
       "<div>\n",
       "<style scoped>\n",
       "    .dataframe tbody tr th:only-of-type {\n",
       "        vertical-align: middle;\n",
       "    }\n",
       "\n",
       "    .dataframe tbody tr th {\n",
       "        vertical-align: top;\n",
       "    }\n",
       "\n",
       "    .dataframe thead th {\n",
       "        text-align: right;\n",
       "    }\n",
       "</style>\n",
       "<table border=\"1\" class=\"dataframe\">\n",
       "  <thead>\n",
       "    <tr style=\"text-align: right;\">\n",
       "      <th></th>\n",
       "      <th>apparentTemperature</th>\n",
       "      <th>cloudCover</th>\n",
       "      <th>countRents</th>\n",
       "      <th>date</th>\n",
       "      <th>date2</th>\n",
       "      <th>datetime</th>\n",
       "      <th>day</th>\n",
       "      <th>day_of_week</th>\n",
       "      <th>dewPoint</th>\n",
       "      <th>holiday</th>\n",
       "      <th>...</th>\n",
       "      <th>summary_Possible Flurries</th>\n",
       "      <th>summary_Possible Light Rain</th>\n",
       "      <th>summary_Possible Light Rain and Windy</th>\n",
       "      <th>summary_Possible Light Sleet</th>\n",
       "      <th>summary_Possible Light Snow</th>\n",
       "      <th>summary_Rain</th>\n",
       "      <th>summary_Windy</th>\n",
       "      <th>summary_Windy and Mostly Cloudy</th>\n",
       "      <th>summary_Windy and Overcast</th>\n",
       "      <th>summary_Windy and Partly Cloudy</th>\n",
       "    </tr>\n",
       "  </thead>\n",
       "  <tbody>\n",
       "    <tr>\n",
       "      <th>0</th>\n",
       "      <td>6.11</td>\n",
       "      <td>0.77</td>\n",
       "      <td>932.0</td>\n",
       "      <td>NaN</td>\n",
       "      <td>2017-01-01</td>\n",
       "      <td>2017-01-01 00:00:00</td>\n",
       "      <td>1</td>\n",
       "      <td>Sunday</td>\n",
       "      <td>5.66</td>\n",
       "      <td>N</td>\n",
       "      <td>...</td>\n",
       "      <td>0</td>\n",
       "      <td>0</td>\n",
       "      <td>0</td>\n",
       "      <td>0</td>\n",
       "      <td>0</td>\n",
       "      <td>0</td>\n",
       "      <td>0</td>\n",
       "      <td>0</td>\n",
       "      <td>0</td>\n",
       "      <td>0</td>\n",
       "    </tr>\n",
       "    <tr>\n",
       "      <th>1</th>\n",
       "      <td>5.28</td>\n",
       "      <td>0.77</td>\n",
       "      <td>892.0</td>\n",
       "      <td>NaN</td>\n",
       "      <td>2017-01-01</td>\n",
       "      <td>2017-01-01 01:00:00</td>\n",
       "      <td>1</td>\n",
       "      <td>Sunday</td>\n",
       "      <td>5.27</td>\n",
       "      <td>N</td>\n",
       "      <td>...</td>\n",
       "      <td>0</td>\n",
       "      <td>0</td>\n",
       "      <td>0</td>\n",
       "      <td>0</td>\n",
       "      <td>0</td>\n",
       "      <td>0</td>\n",
       "      <td>0</td>\n",
       "      <td>0</td>\n",
       "      <td>0</td>\n",
       "      <td>0</td>\n",
       "    </tr>\n",
       "    <tr>\n",
       "      <th>2</th>\n",
       "      <td>5.12</td>\n",
       "      <td>0.83</td>\n",
       "      <td>339.0</td>\n",
       "      <td>NaN</td>\n",
       "      <td>2017-01-01</td>\n",
       "      <td>2017-01-01 02:00:00</td>\n",
       "      <td>1</td>\n",
       "      <td>Sunday</td>\n",
       "      <td>4.80</td>\n",
       "      <td>N</td>\n",
       "      <td>...</td>\n",
       "      <td>0</td>\n",
       "      <td>0</td>\n",
       "      <td>0</td>\n",
       "      <td>0</td>\n",
       "      <td>0</td>\n",
       "      <td>0</td>\n",
       "      <td>0</td>\n",
       "      <td>0</td>\n",
       "      <td>0</td>\n",
       "      <td>0</td>\n",
       "    </tr>\n",
       "    <tr>\n",
       "      <th>3</th>\n",
       "      <td>5.79</td>\n",
       "      <td>0.71</td>\n",
       "      <td>282.0</td>\n",
       "      <td>NaN</td>\n",
       "      <td>2017-01-01</td>\n",
       "      <td>2017-01-01 03:00:00</td>\n",
       "      <td>1</td>\n",
       "      <td>Sunday</td>\n",
       "      <td>4.61</td>\n",
       "      <td>N</td>\n",
       "      <td>...</td>\n",
       "      <td>0</td>\n",
       "      <td>0</td>\n",
       "      <td>0</td>\n",
       "      <td>0</td>\n",
       "      <td>0</td>\n",
       "      <td>0</td>\n",
       "      <td>0</td>\n",
       "      <td>0</td>\n",
       "      <td>0</td>\n",
       "      <td>0</td>\n",
       "    </tr>\n",
       "    <tr>\n",
       "      <th>4</th>\n",
       "      <td>4.74</td>\n",
       "      <td>0.83</td>\n",
       "      <td>185.0</td>\n",
       "      <td>NaN</td>\n",
       "      <td>2017-01-01</td>\n",
       "      <td>2017-01-01 04:00:00</td>\n",
       "      <td>1</td>\n",
       "      <td>Sunday</td>\n",
       "      <td>4.41</td>\n",
       "      <td>N</td>\n",
       "      <td>...</td>\n",
       "      <td>0</td>\n",
       "      <td>0</td>\n",
       "      <td>0</td>\n",
       "      <td>0</td>\n",
       "      <td>0</td>\n",
       "      <td>0</td>\n",
       "      <td>0</td>\n",
       "      <td>0</td>\n",
       "      <td>0</td>\n",
       "      <td>0</td>\n",
       "    </tr>\n",
       "  </tbody>\n",
       "</table>\n",
       "<p>5 rows × 71 columns</p>\n",
       "</div>"
      ],
      "text/plain": [
       "   apparentTemperature  cloudCover  countRents date       date2  \\\n",
       "0                 6.11        0.77       932.0  NaN  2017-01-01   \n",
       "1                 5.28        0.77       892.0  NaN  2017-01-01   \n",
       "2                 5.12        0.83       339.0  NaN  2017-01-01   \n",
       "3                 5.79        0.71       282.0  NaN  2017-01-01   \n",
       "4                 4.74        0.83       185.0  NaN  2017-01-01   \n",
       "\n",
       "             datetime  day day_of_week  dewPoint holiday  ...  \\\n",
       "0 2017-01-01 00:00:00    1      Sunday      5.66       N  ...   \n",
       "1 2017-01-01 01:00:00    1      Sunday      5.27       N  ...   \n",
       "2 2017-01-01 02:00:00    1      Sunday      4.80       N  ...   \n",
       "3 2017-01-01 03:00:00    1      Sunday      4.61       N  ...   \n",
       "4 2017-01-01 04:00:00    1      Sunday      4.41       N  ...   \n",
       "\n",
       "   summary_Possible Flurries  summary_Possible Light Rain  \\\n",
       "0                          0                            0   \n",
       "1                          0                            0   \n",
       "2                          0                            0   \n",
       "3                          0                            0   \n",
       "4                          0                            0   \n",
       "\n",
       "  summary_Possible Light Rain and Windy  summary_Possible Light Sleet  \\\n",
       "0                                     0                             0   \n",
       "1                                     0                             0   \n",
       "2                                     0                             0   \n",
       "3                                     0                             0   \n",
       "4                                     0                             0   \n",
       "\n",
       "   summary_Possible Light Snow  summary_Rain  summary_Windy  \\\n",
       "0                            0             0              0   \n",
       "1                            0             0              0   \n",
       "2                            0             0              0   \n",
       "3                            0             0              0   \n",
       "4                            0             0              0   \n",
       "\n",
       "   summary_Windy and Mostly Cloudy summary_Windy and Overcast  \\\n",
       "0                                0                          0   \n",
       "1                                0                          0   \n",
       "2                                0                          0   \n",
       "3                                0                          0   \n",
       "4                                0                          0   \n",
       "\n",
       "   summary_Windy and Partly Cloudy  \n",
       "0                                0  \n",
       "1                                0  \n",
       "2                                0  \n",
       "3                                0  \n",
       "4                                0  \n",
       "\n",
       "[5 rows x 71 columns]"
      ]
     },
     "execution_count": 433,
     "metadata": {},
     "output_type": "execute_result"
    }
   ],
   "source": [
    "data_1=data_1.merge(\n",
    "  df_dummy_1,\n",
    "  left_index=True, \n",
    "  right_index=True,\n",
    "  how=\"left\",\n",
    ")\n",
    "data_1.head()"
   ]
  },
  {
   "cell_type": "code",
   "execution_count": 434,
   "metadata": {},
   "outputs": [],
   "source": [
    "data_1=data_1.drop(['date','datetime','date2'],axis=1).select_dtypes(exclude='object')"
   ]
  },
  {
   "cell_type": "code",
   "execution_count": 435,
   "metadata": {},
   "outputs": [],
   "source": [
    "train_data_1=data_1[0:22416]\n",
    "test_data_1=data_1[22416:]"
   ]
  },
  {
   "cell_type": "code",
   "execution_count": 436,
   "metadata": {},
   "outputs": [],
   "source": [
    "from sklearn.linear_model import LinearRegression\n",
    "from sklearn.model_selection import train_test_split\n",
    "from sklearn import linear_model"
   ]
  },
  {
   "cell_type": "code",
   "execution_count": 437,
   "metadata": {},
   "outputs": [],
   "source": [
    "X_train1, X_val1, y_train1, y_val1= train_test_split(train_data_1.drop([\"countRents\"],axis=1), train_data_1[\"countRents\"], test_size=0.2, random_state=1)"
   ]
  },
  {
   "cell_type": "code",
   "execution_count": 438,
   "metadata": {},
   "outputs": [],
   "source": [
    "model1 = LinearRegression().fit(X_train1, y_train1)"
   ]
  },
  {
   "cell_type": "code",
   "execution_count": 439,
   "metadata": {},
   "outputs": [
    {
     "data": {
      "text/plain": [
       "0.41347152573478835"
      ]
     },
     "execution_count": 439,
     "metadata": {},
     "output_type": "execute_result"
    }
   ],
   "source": [
    "model1.score(X_train1, y_train1)"
   ]
  },
  {
   "cell_type": "code",
   "execution_count": 440,
   "metadata": {},
   "outputs": [
    {
     "data": {
      "text/plain": [
       "0.40873645766975825"
      ]
     },
     "execution_count": 440,
     "metadata": {},
     "output_type": "execute_result"
    }
   ],
   "source": [
    "model1.score(X_val1, y_val1)"
   ]
  },
  {
   "cell_type": "code",
   "execution_count": 441,
   "metadata": {},
   "outputs": [
    {
     "data": {
      "text/plain": [
       "0.4125418624495808"
      ]
     },
     "execution_count": 441,
     "metadata": {},
     "output_type": "execute_result"
    }
   ],
   "source": [
    "model1.score(train_data_1.drop([\"countRents\"],axis=1), train_data_1[\"countRents\"])"
   ]
  },
  {
   "cell_type": "code",
   "execution_count": 442,
   "metadata": {},
   "outputs": [],
   "source": [
    "pred1=model1.predict(test_data_1.drop([\"countRents\"],axis=1))"
   ]
  },
  {
   "cell_type": "code",
   "execution_count": 445,
   "metadata": {},
   "outputs": [],
   "source": [
    "sub1=pd.DataFrame()\n",
    "sub1[\"datetime\"]=test_org.datetime\n",
    "sub1[\"countRents\"]=pred1"
   ]
  },
  {
   "cell_type": "code",
   "execution_count": 446,
   "metadata": {},
   "outputs": [
    {
     "data": {
      "text/html": [
       "<div>\n",
       "<style scoped>\n",
       "    .dataframe tbody tr th:only-of-type {\n",
       "        vertical-align: middle;\n",
       "    }\n",
       "\n",
       "    .dataframe tbody tr th {\n",
       "        vertical-align: top;\n",
       "    }\n",
       "\n",
       "    .dataframe thead th {\n",
       "        text-align: right;\n",
       "    }\n",
       "</style>\n",
       "<table border=\"1\" class=\"dataframe\">\n",
       "  <thead>\n",
       "    <tr style=\"text-align: right;\">\n",
       "      <th></th>\n",
       "      <th>datetime</th>\n",
       "      <th>countRents</th>\n",
       "    </tr>\n",
       "  </thead>\n",
       "  <tbody>\n",
       "    <tr>\n",
       "      <th>0</th>\n",
       "      <td>2019-07-27 00:00:00</td>\n",
       "      <td>120.882033</td>\n",
       "    </tr>\n",
       "    <tr>\n",
       "      <th>1</th>\n",
       "      <td>2019-07-27 01:00:00</td>\n",
       "      <td>503.251099</td>\n",
       "    </tr>\n",
       "    <tr>\n",
       "      <th>2</th>\n",
       "      <td>2019-07-27 02:00:00</td>\n",
       "      <td>468.497385</td>\n",
       "    </tr>\n",
       "    <tr>\n",
       "      <th>3</th>\n",
       "      <td>2019-07-27 03:00:00</td>\n",
       "      <td>449.840777</td>\n",
       "    </tr>\n",
       "    <tr>\n",
       "      <th>4</th>\n",
       "      <td>2019-07-27 04:00:00</td>\n",
       "      <td>408.907870</td>\n",
       "    </tr>\n",
       "  </tbody>\n",
       "</table>\n",
       "</div>"
      ],
      "text/plain": [
       "             datetime  countRents\n",
       "0 2019-07-27 00:00:00  120.882033\n",
       "1 2019-07-27 01:00:00  503.251099\n",
       "2 2019-07-27 02:00:00  468.497385\n",
       "3 2019-07-27 03:00:00  449.840777\n",
       "4 2019-07-27 04:00:00  408.907870"
      ]
     },
     "execution_count": 446,
     "metadata": {},
     "output_type": "execute_result"
    }
   ],
   "source": [
    "sub1.head()"
   ]
  },
  {
   "cell_type": "code",
   "execution_count": 447,
   "metadata": {},
   "outputs": [],
   "source": [
    "sub1.to_csv('D:/CLASS/Term 2/Kaggle competition/submission1.csv')"
   ]
  },
  {
   "cell_type": "markdown",
   "metadata": {},
   "source": [
    "## Model 2-random forest(my best model)"
   ]
  },
  {
   "cell_type": "code",
   "execution_count": 448,
   "metadata": {},
   "outputs": [],
   "source": [
    "from sklearn.model_selection import GridSearchCV\n",
    "from sklearn.ensemble import RandomForestRegressor"
   ]
  },
  {
   "cell_type": "code",
   "execution_count": 449,
   "metadata": {},
   "outputs": [],
   "source": [
    "param_grid = {\n",
    "    'bootstrap': [True],\n",
    "    'n_estimators': [100, 200]\n",
    "}"
   ]
  },
  {
   "cell_type": "code",
   "execution_count": 450,
   "metadata": {},
   "outputs": [],
   "source": [
    "model5 = RandomForestRegressor()"
   ]
  },
  {
   "cell_type": "code",
   "execution_count": 451,
   "metadata": {},
   "outputs": [],
   "source": [
    "grid_search = GridSearchCV(estimator = model5, param_grid = param_grid, \n",
    "                          cv = 5, n_jobs = -1, verbose = 2)"
   ]
  },
  {
   "cell_type": "code",
   "execution_count": 452,
   "metadata": {},
   "outputs": [
    {
     "name": "stdout",
     "output_type": "stream",
     "text": [
      "Fitting 5 folds for each of 2 candidates, totalling 10 fits\n"
     ]
    },
    {
     "name": "stderr",
     "output_type": "stream",
     "text": [
      "[Parallel(n_jobs=-1)]: Using backend LokyBackend with 8 concurrent workers.\n",
      "[Parallel(n_jobs=-1)]: Done   7 out of  10 | elapsed:  2.4min remaining:  1.0min\n",
      "[Parallel(n_jobs=-1)]: Done  10 out of  10 | elapsed:  2.9min finished\n"
     ]
    },
    {
     "data": {
      "text/plain": [
       "GridSearchCV(cv=5, error_score='raise-deprecating',\n",
       "             estimator=RandomForestRegressor(bootstrap=True, criterion='mse',\n",
       "                                             max_depth=None,\n",
       "                                             max_features='auto',\n",
       "                                             max_leaf_nodes=None,\n",
       "                                             min_impurity_decrease=0.0,\n",
       "                                             min_impurity_split=None,\n",
       "                                             min_samples_leaf=1,\n",
       "                                             min_samples_split=2,\n",
       "                                             min_weight_fraction_leaf=0.0,\n",
       "                                             n_estimators='warn', n_jobs=None,\n",
       "                                             oob_score=False, random_state=None,\n",
       "                                             verbose=0, warm_start=False),\n",
       "             iid='warn', n_jobs=-1,\n",
       "             param_grid={'bootstrap': [True], 'n_estimators': [100, 200]},\n",
       "             pre_dispatch='2*n_jobs', refit=True, return_train_score=False,\n",
       "             scoring=None, verbose=2)"
      ]
     },
     "execution_count": 452,
     "metadata": {},
     "output_type": "execute_result"
    }
   ],
   "source": [
    "grid_search.fit(train_data_1.drop([\"countRents\"],axis=1), train_data_1[\"countRents\"])"
   ]
  },
  {
   "cell_type": "code",
   "execution_count": 453,
   "metadata": {},
   "outputs": [
    {
     "data": {
      "text/plain": [
       "{'bootstrap': True, 'n_estimators': 200}"
      ]
     },
     "execution_count": 453,
     "metadata": {},
     "output_type": "execute_result"
    }
   ],
   "source": [
    "grid_search.best_params_"
   ]
  },
  {
   "cell_type": "code",
   "execution_count": 454,
   "metadata": {},
   "outputs": [
    {
     "data": {
      "text/plain": [
       "0.996267663398425"
      ]
     },
     "execution_count": 454,
     "metadata": {},
     "output_type": "execute_result"
    }
   ],
   "source": [
    "grid_search.score(train_data_1.drop([\"countRents\"],axis=1), train_data_1[\"countRents\"])"
   ]
  },
  {
   "cell_type": "code",
   "execution_count": 456,
   "metadata": {},
   "outputs": [],
   "source": [
    "pred2=grid_search.predict(test_data_1.drop([\"countRents\"],axis=1))"
   ]
  },
  {
   "cell_type": "code",
   "execution_count": 457,
   "metadata": {},
   "outputs": [],
   "source": [
    "sub2=pd.DataFrame()\n",
    "sub2[\"datetime\"]=test_org.datetime\n",
    "sub2[\"countRents\"]=pred2"
   ]
  },
  {
   "cell_type": "code",
   "execution_count": 458,
   "metadata": {},
   "outputs": [
    {
     "data": {
      "text/html": [
       "<div>\n",
       "<style scoped>\n",
       "    .dataframe tbody tr th:only-of-type {\n",
       "        vertical-align: middle;\n",
       "    }\n",
       "\n",
       "    .dataframe tbody tr th {\n",
       "        vertical-align: top;\n",
       "    }\n",
       "\n",
       "    .dataframe thead th {\n",
       "        text-align: right;\n",
       "    }\n",
       "</style>\n",
       "<table border=\"1\" class=\"dataframe\">\n",
       "  <thead>\n",
       "    <tr style=\"text-align: right;\">\n",
       "      <th></th>\n",
       "      <th>datetime</th>\n",
       "      <th>countRents</th>\n",
       "    </tr>\n",
       "  </thead>\n",
       "  <tbody>\n",
       "    <tr>\n",
       "      <th>0</th>\n",
       "      <td>2019-07-27 00:00:00</td>\n",
       "      <td>446.670</td>\n",
       "    </tr>\n",
       "    <tr>\n",
       "      <th>1</th>\n",
       "      <td>2019-07-27 01:00:00</td>\n",
       "      <td>241.345</td>\n",
       "    </tr>\n",
       "    <tr>\n",
       "      <th>2</th>\n",
       "      <td>2019-07-27 02:00:00</td>\n",
       "      <td>162.455</td>\n",
       "    </tr>\n",
       "    <tr>\n",
       "      <th>3</th>\n",
       "      <td>2019-07-27 03:00:00</td>\n",
       "      <td>93.990</td>\n",
       "    </tr>\n",
       "    <tr>\n",
       "      <th>4</th>\n",
       "      <td>2019-07-27 04:00:00</td>\n",
       "      <td>99.085</td>\n",
       "    </tr>\n",
       "  </tbody>\n",
       "</table>\n",
       "</div>"
      ],
      "text/plain": [
       "             datetime  countRents\n",
       "0 2019-07-27 00:00:00     446.670\n",
       "1 2019-07-27 01:00:00     241.345\n",
       "2 2019-07-27 02:00:00     162.455\n",
       "3 2019-07-27 03:00:00      93.990\n",
       "4 2019-07-27 04:00:00      99.085"
      ]
     },
     "execution_count": 458,
     "metadata": {},
     "output_type": "execute_result"
    }
   ],
   "source": [
    "sub2.head()"
   ]
  },
  {
   "cell_type": "code",
   "execution_count": 459,
   "metadata": {},
   "outputs": [],
   "source": [
    "sub2.to_csv('D:/CLASS/Term 2/Kaggle competition/submission2.csv')"
   ]
  },
  {
   "cell_type": "markdown",
   "metadata": {},
   "source": [
    "# Feature engineering"
   ]
  },
  {
   "cell_type": "code",
   "execution_count": 461,
   "metadata": {},
   "outputs": [],
   "source": [
    "from sklearn.preprocessing import StandardScaler\n",
    "\n",
    "# Separating out the features\n",
    "x = data_1.drop(\"countRents\",axis=1)\n",
    "# Separating out the target\n",
    "y = data_1.loc[:,['countRents']]\n",
    "# Standardizing the features\n",
    "x = StandardScaler().fit_transform(x)"
   ]
  },
  {
   "cell_type": "code",
   "execution_count": 463,
   "metadata": {},
   "outputs": [],
   "source": [
    "from sklearn.decomposition import PCA\n",
    "pca = PCA(n_components=60) #selecting the number of components\n",
    "principalComponents = pca.fit_transform(x)\n",
    "principalDf = pd.DataFrame(data = principalComponents,index=data_1.index)"
   ]
  },
  {
   "cell_type": "code",
   "execution_count": 465,
   "metadata": {},
   "outputs": [
    {
     "data": {
      "text/html": [
       "<div>\n",
       "<style scoped>\n",
       "    .dataframe tbody tr th:only-of-type {\n",
       "        vertical-align: middle;\n",
       "    }\n",
       "\n",
       "    .dataframe tbody tr th {\n",
       "        vertical-align: top;\n",
       "    }\n",
       "\n",
       "    .dataframe thead th {\n",
       "        text-align: right;\n",
       "    }\n",
       "</style>\n",
       "<table border=\"1\" class=\"dataframe\">\n",
       "  <thead>\n",
       "    <tr style=\"text-align: right;\">\n",
       "      <th></th>\n",
       "      <th>0</th>\n",
       "      <th>1</th>\n",
       "      <th>2</th>\n",
       "      <th>3</th>\n",
       "      <th>4</th>\n",
       "      <th>5</th>\n",
       "      <th>6</th>\n",
       "      <th>7</th>\n",
       "      <th>8</th>\n",
       "      <th>9</th>\n",
       "      <th>...</th>\n",
       "      <th>51</th>\n",
       "      <th>52</th>\n",
       "      <th>53</th>\n",
       "      <th>54</th>\n",
       "      <th>55</th>\n",
       "      <th>56</th>\n",
       "      <th>57</th>\n",
       "      <th>58</th>\n",
       "      <th>59</th>\n",
       "      <th>60</th>\n",
       "    </tr>\n",
       "  </thead>\n",
       "  <tbody>\n",
       "    <tr>\n",
       "      <th>0</th>\n",
       "      <td>-0.320610</td>\n",
       "      <td>2.416065</td>\n",
       "      <td>1.213855</td>\n",
       "      <td>-0.110627</td>\n",
       "      <td>1.335879</td>\n",
       "      <td>-0.605541</td>\n",
       "      <td>0.962802</td>\n",
       "      <td>0.100382</td>\n",
       "      <td>-1.302941</td>\n",
       "      <td>-1.184277</td>\n",
       "      <td>...</td>\n",
       "      <td>0.000186</td>\n",
       "      <td>-1.163947e-14</td>\n",
       "      <td>-1.542892e-15</td>\n",
       "      <td>-1.819965e-16</td>\n",
       "      <td>1.525250e-15</td>\n",
       "      <td>2.070778e-16</td>\n",
       "      <td>2.074893e-15</td>\n",
       "      <td>-6.365678e-16</td>\n",
       "      <td>6.786448e-16</td>\n",
       "      <td>932.0</td>\n",
       "    </tr>\n",
       "    <tr>\n",
       "      <th>1</th>\n",
       "      <td>-0.210394</td>\n",
       "      <td>2.614847</td>\n",
       "      <td>1.267246</td>\n",
       "      <td>-0.130423</td>\n",
       "      <td>1.304556</td>\n",
       "      <td>-0.575409</td>\n",
       "      <td>1.118705</td>\n",
       "      <td>0.057518</td>\n",
       "      <td>-1.146027</td>\n",
       "      <td>-1.126866</td>\n",
       "      <td>...</td>\n",
       "      <td>0.000334</td>\n",
       "      <td>-2.447250e-15</td>\n",
       "      <td>1.672089e-15</td>\n",
       "      <td>4.993871e-17</td>\n",
       "      <td>3.637427e-15</td>\n",
       "      <td>-1.969658e-15</td>\n",
       "      <td>-4.211689e-15</td>\n",
       "      <td>8.363267e-16</td>\n",
       "      <td>-7.957533e-16</td>\n",
       "      <td>892.0</td>\n",
       "    </tr>\n",
       "    <tr>\n",
       "      <th>2</th>\n",
       "      <td>-0.222023</td>\n",
       "      <td>2.611358</td>\n",
       "      <td>1.325544</td>\n",
       "      <td>-0.131734</td>\n",
       "      <td>1.362324</td>\n",
       "      <td>-0.613508</td>\n",
       "      <td>1.036879</td>\n",
       "      <td>0.085867</td>\n",
       "      <td>-1.198413</td>\n",
       "      <td>-1.088888</td>\n",
       "      <td>...</td>\n",
       "      <td>0.000123</td>\n",
       "      <td>1.238601e-14</td>\n",
       "      <td>-9.578073e-16</td>\n",
       "      <td>-7.367070e-16</td>\n",
       "      <td>-1.712887e-15</td>\n",
       "      <td>-1.168717e-15</td>\n",
       "      <td>2.483505e-16</td>\n",
       "      <td>-2.068568e-15</td>\n",
       "      <td>-7.638945e-16</td>\n",
       "      <td>339.0</td>\n",
       "    </tr>\n",
       "    <tr>\n",
       "      <th>3</th>\n",
       "      <td>-0.323405</td>\n",
       "      <td>2.648263</td>\n",
       "      <td>1.180280</td>\n",
       "      <td>-0.071300</td>\n",
       "      <td>1.362396</td>\n",
       "      <td>-0.595853</td>\n",
       "      <td>1.110504</td>\n",
       "      <td>0.078411</td>\n",
       "      <td>-1.160023</td>\n",
       "      <td>-1.051147</td>\n",
       "      <td>...</td>\n",
       "      <td>0.000589</td>\n",
       "      <td>-1.850525e-14</td>\n",
       "      <td>4.467108e-15</td>\n",
       "      <td>-4.766450e-17</td>\n",
       "      <td>2.197553e-15</td>\n",
       "      <td>3.326546e-15</td>\n",
       "      <td>-7.667379e-16</td>\n",
       "      <td>-1.614624e-16</td>\n",
       "      <td>-1.401976e-15</td>\n",
       "      <td>282.0</td>\n",
       "    </tr>\n",
       "    <tr>\n",
       "      <th>4</th>\n",
       "      <td>1.249731</td>\n",
       "      <td>2.068710</td>\n",
       "      <td>0.851041</td>\n",
       "      <td>-0.150964</td>\n",
       "      <td>1.219143</td>\n",
       "      <td>-0.560714</td>\n",
       "      <td>0.994243</td>\n",
       "      <td>-0.280646</td>\n",
       "      <td>-0.568108</td>\n",
       "      <td>-1.928774</td>\n",
       "      <td>...</td>\n",
       "      <td>0.000540</td>\n",
       "      <td>2.382342e-15</td>\n",
       "      <td>4.221643e-15</td>\n",
       "      <td>2.252910e-16</td>\n",
       "      <td>4.932037e-16</td>\n",
       "      <td>1.952772e-15</td>\n",
       "      <td>1.163907e-15</td>\n",
       "      <td>-1.147721e-16</td>\n",
       "      <td>-5.435985e-16</td>\n",
       "      <td>185.0</td>\n",
       "    </tr>\n",
       "  </tbody>\n",
       "</table>\n",
       "<p>5 rows × 61 columns</p>\n",
       "</div>"
      ],
      "text/plain": [
       "         0         1         2         3         4         5         6   \\\n",
       "0 -0.320610  2.416065  1.213855 -0.110627  1.335879 -0.605541  0.962802   \n",
       "1 -0.210394  2.614847  1.267246 -0.130423  1.304556 -0.575409  1.118705   \n",
       "2 -0.222023  2.611358  1.325544 -0.131734  1.362324 -0.613508  1.036879   \n",
       "3 -0.323405  2.648263  1.180280 -0.071300  1.362396 -0.595853  1.110504   \n",
       "4  1.249731  2.068710  0.851041 -0.150964  1.219143 -0.560714  0.994243   \n",
       "\n",
       "         7         8         9   ...        51            52            53  \\\n",
       "0  0.100382 -1.302941 -1.184277  ...  0.000186 -1.163947e-14 -1.542892e-15   \n",
       "1  0.057518 -1.146027 -1.126866  ...  0.000334 -2.447250e-15  1.672089e-15   \n",
       "2  0.085867 -1.198413 -1.088888  ...  0.000123  1.238601e-14 -9.578073e-16   \n",
       "3  0.078411 -1.160023 -1.051147  ...  0.000589 -1.850525e-14  4.467108e-15   \n",
       "4 -0.280646 -0.568108 -1.928774  ...  0.000540  2.382342e-15  4.221643e-15   \n",
       "\n",
       "             54            55            56            57            58  \\\n",
       "0 -1.819965e-16  1.525250e-15  2.070778e-16  2.074893e-15 -6.365678e-16   \n",
       "1  4.993871e-17  3.637427e-15 -1.969658e-15 -4.211689e-15  8.363267e-16   \n",
       "2 -7.367070e-16 -1.712887e-15 -1.168717e-15  2.483505e-16 -2.068568e-15   \n",
       "3 -4.766450e-17  2.197553e-15  3.326546e-15 -7.667379e-16 -1.614624e-16   \n",
       "4  2.252910e-16  4.932037e-16  1.952772e-15  1.163907e-15 -1.147721e-16   \n",
       "\n",
       "             59     60  \n",
       "0  6.786448e-16  932.0  \n",
       "1 -7.957533e-16  892.0  \n",
       "2 -7.638945e-16  339.0  \n",
       "3 -1.401976e-15  282.0  \n",
       "4 -5.435985e-16  185.0  \n",
       "\n",
       "[5 rows x 61 columns]"
      ]
     },
     "execution_count": 465,
     "metadata": {},
     "output_type": "execute_result"
    }
   ],
   "source": [
    "# Concatenating the PCA table with SalePrice\n",
    "data_2 = pd.concat([principalDf,data_1[\"countRents\"]],axis=1,ignore_index=True)\n",
    "data_2.head()"
   ]
  },
  {
   "cell_type": "code",
   "execution_count": 466,
   "metadata": {},
   "outputs": [],
   "source": [
    "# Spilitting into Train 3 and Test 3 Set\n",
    "\n",
    "train_data_2=data_2[0:22416]\n",
    "test_data_2=data_2[22416:]"
   ]
  },
  {
   "cell_type": "markdown",
   "metadata": {},
   "source": [
    "## Third model"
   ]
  },
  {
   "cell_type": "code",
   "execution_count": 468,
   "metadata": {},
   "outputs": [],
   "source": [
    "from sklearn.ensemble import RandomForestRegressor"
   ]
  },
  {
   "cell_type": "code",
   "execution_count": 469,
   "metadata": {},
   "outputs": [],
   "source": [
    "model3 = RandomForestRegressor(bootstrap=True,n_estimators=200)"
   ]
  },
  {
   "cell_type": "code",
   "execution_count": 476,
   "metadata": {},
   "outputs": [
    {
     "data": {
      "text/plain": [
       "RandomForestRegressor(bootstrap=True, criterion='mse', max_depth=None,\n",
       "                      max_features='auto', max_leaf_nodes=None,\n",
       "                      min_impurity_decrease=0.0, min_impurity_split=None,\n",
       "                      min_samples_leaf=1, min_samples_split=2,\n",
       "                      min_weight_fraction_leaf=0.0, n_estimators=200,\n",
       "                      n_jobs=None, oob_score=False, random_state=None,\n",
       "                      verbose=0, warm_start=False)"
      ]
     },
     "execution_count": 476,
     "metadata": {},
     "output_type": "execute_result"
    }
   ],
   "source": [
    "model3.fit(train_data_2.iloc[:,:-1], train_data_2.iloc[:,-1])"
   ]
  },
  {
   "cell_type": "code",
   "execution_count": 477,
   "metadata": {},
   "outputs": [
    {
     "data": {
      "text/plain": [
       "0.9499187126165082"
      ]
     },
     "execution_count": 477,
     "metadata": {},
     "output_type": "execute_result"
    }
   ],
   "source": [
    "model3.score(train_data_2.iloc[:,:-1], train_data_2.iloc[:,-1])"
   ]
  },
  {
   "cell_type": "code",
   "execution_count": 479,
   "metadata": {},
   "outputs": [],
   "source": [
    "pred3=model3.predict(test_data_2.iloc[:,:-1])"
   ]
  },
  {
   "cell_type": "code",
   "execution_count": 481,
   "metadata": {},
   "outputs": [],
   "source": [
    "sub3=pd.DataFrame()\n",
    "sub3[\"datetime\"]=test_org.datetime\n",
    "sub3[\"countRents\"]=pred3"
   ]
  },
  {
   "cell_type": "code",
   "execution_count": 482,
   "metadata": {},
   "outputs": [
    {
     "data": {
      "text/html": [
       "<div>\n",
       "<style scoped>\n",
       "    .dataframe tbody tr th:only-of-type {\n",
       "        vertical-align: middle;\n",
       "    }\n",
       "\n",
       "    .dataframe tbody tr th {\n",
       "        vertical-align: top;\n",
       "    }\n",
       "\n",
       "    .dataframe thead th {\n",
       "        text-align: right;\n",
       "    }\n",
       "</style>\n",
       "<table border=\"1\" class=\"dataframe\">\n",
       "  <thead>\n",
       "    <tr style=\"text-align: right;\">\n",
       "      <th></th>\n",
       "      <th>datetime</th>\n",
       "      <th>countRents</th>\n",
       "    </tr>\n",
       "  </thead>\n",
       "  <tbody>\n",
       "    <tr>\n",
       "      <th>0</th>\n",
       "      <td>2019-07-27 00:00:00</td>\n",
       "      <td>337.250</td>\n",
       "    </tr>\n",
       "    <tr>\n",
       "      <th>1</th>\n",
       "      <td>2019-07-27 01:00:00</td>\n",
       "      <td>1833.900</td>\n",
       "    </tr>\n",
       "    <tr>\n",
       "      <th>2</th>\n",
       "      <td>2019-07-27 02:00:00</td>\n",
       "      <td>843.275</td>\n",
       "    </tr>\n",
       "    <tr>\n",
       "      <th>3</th>\n",
       "      <td>2019-07-27 03:00:00</td>\n",
       "      <td>362.385</td>\n",
       "    </tr>\n",
       "    <tr>\n",
       "      <th>4</th>\n",
       "      <td>2019-07-27 04:00:00</td>\n",
       "      <td>408.440</td>\n",
       "    </tr>\n",
       "  </tbody>\n",
       "</table>\n",
       "</div>"
      ],
      "text/plain": [
       "             datetime  countRents\n",
       "0 2019-07-27 00:00:00     337.250\n",
       "1 2019-07-27 01:00:00    1833.900\n",
       "2 2019-07-27 02:00:00     843.275\n",
       "3 2019-07-27 03:00:00     362.385\n",
       "4 2019-07-27 04:00:00     408.440"
      ]
     },
     "execution_count": 482,
     "metadata": {},
     "output_type": "execute_result"
    }
   ],
   "source": [
    "sub3.head()"
   ]
  },
  {
   "cell_type": "code",
   "execution_count": 483,
   "metadata": {},
   "outputs": [],
   "source": [
    "sub3.to_csv('D:/CLASS/Term 2/Kaggle competition/submission3.csv')"
   ]
  },
  {
   "cell_type": "markdown",
   "metadata": {},
   "source": [
    "## Fourth model"
   ]
  },
  {
   "cell_type": "code",
   "execution_count": 484,
   "metadata": {},
   "outputs": [],
   "source": [
    "import xgboost"
   ]
  },
  {
   "cell_type": "code",
   "execution_count": 487,
   "metadata": {},
   "outputs": [],
   "source": [
    "model4=xgboost.XGBRegressor(colsample_bytree=0.4,\n",
    "                 gamma=0,                 \n",
    "                 learning_rate=0.07,\n",
    "                 max_depth=3,\n",
    "                 min_child_weight=1.5,\n",
    "                 n_estimators=1000,                                                                    \n",
    "                 reg_alpha=0.75,\n",
    "                 reg_lambda=0.45,\n",
    "                 subsample=0.6,\n",
    "                 seed=42) "
   ]
  },
  {
   "cell_type": "code",
   "execution_count": 488,
   "metadata": {},
   "outputs": [
    {
     "name": "stderr",
     "output_type": "stream",
     "text": [
      "C:\\ProgramData\\Anaconda3\\lib\\site-packages\\xgboost\\core.py:587: FutureWarning: Series.base is deprecated and will be removed in a future version\n",
      "  if getattr(data, 'base', None) is not None and \\\n",
      "C:\\ProgramData\\Anaconda3\\lib\\site-packages\\xgboost\\core.py:588: FutureWarning: Series.base is deprecated and will be removed in a future version\n",
      "  data.base is not None and isinstance(data, np.ndarray) \\\n"
     ]
    },
    {
     "name": "stdout",
     "output_type": "stream",
     "text": [
      "[12:32:46] WARNING: C:/Jenkins/workspace/xgboost-win64_release_0.90/src/objective/regression_obj.cu:152: reg:linear is now deprecated in favor of reg:squarederror.\n"
     ]
    },
    {
     "data": {
      "text/plain": [
       "XGBRegressor(base_score=0.5, booster='gbtree', colsample_bylevel=1,\n",
       "             colsample_bynode=1, colsample_bytree=0.4, gamma=0,\n",
       "             importance_type='gain', learning_rate=0.07, max_delta_step=0,\n",
       "             max_depth=3, min_child_weight=1.5, missing=None, n_estimators=1000,\n",
       "             n_jobs=1, nthread=None, objective='reg:linear', random_state=0,\n",
       "             reg_alpha=0.75, reg_lambda=0.45, scale_pos_weight=1, seed=42,\n",
       "             silent=None, subsample=0.6, verbosity=1)"
      ]
     },
     "execution_count": 488,
     "metadata": {},
     "output_type": "execute_result"
    }
   ],
   "source": [
    "model4.fit(train_data_1.drop([\"countRents\"],axis=1), train_data_1[\"countRents\"])"
   ]
  },
  {
   "cell_type": "code",
   "execution_count": 489,
   "metadata": {},
   "outputs": [
    {
     "data": {
      "text/plain": [
       "0.9349381942400025"
      ]
     },
     "execution_count": 489,
     "metadata": {},
     "output_type": "execute_result"
    }
   ],
   "source": [
    "model4.score(train_data_1.drop([\"countRents\"],axis=1), train_data_1[\"countRents\"])"
   ]
  },
  {
   "cell_type": "code",
   "execution_count": 491,
   "metadata": {},
   "outputs": [],
   "source": [
    "pred4=model4.predict(test_data_1.drop([\"countRents\"],axis=1))"
   ]
  },
  {
   "cell_type": "code",
   "execution_count": 492,
   "metadata": {},
   "outputs": [],
   "source": [
    "sub4=pd.DataFrame()\n",
    "sub4[\"datetime\"]=test_org.datetime\n",
    "sub4[\"countRents\"]=pred4"
   ]
  },
  {
   "cell_type": "code",
   "execution_count": 493,
   "metadata": {},
   "outputs": [],
   "source": [
    "sub4.to_csv('D:/CLASS/Term 2/Kaggle competition/submission4.csv')"
   ]
  },
  {
   "cell_type": "code",
   "execution_count": null,
   "metadata": {},
   "outputs": [],
   "source": []
  }
 ],
 "metadata": {
  "kernelspec": {
   "display_name": "Python 3",
   "language": "python",
   "name": "python3"
  },
  "language_info": {
   "codemirror_mode": {
    "name": "ipython",
    "version": 3
   },
   "file_extension": ".py",
   "mimetype": "text/x-python",
   "name": "python",
   "nbconvert_exporter": "python",
   "pygments_lexer": "ipython3",
   "version": "3.7.3"
  }
 },
 "nbformat": 4,
 "nbformat_minor": 4
}
